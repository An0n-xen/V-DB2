{
 "cells": [
  {
   "cell_type": "code",
   "execution_count": 1,
   "metadata": {},
   "outputs": [],
   "source": [
    "import os\n",
    "import sys\n",
    "project_root = os.path.dirname(os.path.dirname(os.path.abspath(\"./V-DB2\")))\n",
    "sys.path.insert(0, project_root)\n",
    "from utils.vector_store import VectorStore"
   ]
  },
  {
   "cell_type": "code",
   "execution_count": 2,
   "metadata": {},
   "outputs": [],
   "source": [
    "vector_store = VectorStore()"
   ]
  },
  {
   "cell_type": "code",
   "execution_count": 3,
   "metadata": {},
   "outputs": [],
   "source": [
    "vector_store.add_text(\"The quick brown fox jumps over the lazy dog\", {\"source\": \"Example 1\"})\n",
    "vector_store.add_text(\"A journey of a thousand miles begins with a single step\", {\"source\": \"Example 2\"})\n",
    "vector_store.add_text(\"To be or not to be, that is the question\", {\"source\": \"Example 3\"})"
   ]
  },
  {
   "cell_type": "code",
   "execution_count": 4,
   "metadata": {},
   "outputs": [],
   "source": [
    "vector_store.build()"
   ]
  },
  {
   "cell_type": "code",
   "execution_count": 5,
   "metadata": {},
   "outputs": [],
   "source": [
    "query = \"What did the fox do?\"\n",
    "results = vector_store.search(query, top_k=2)"
   ]
  },
  {
   "cell_type": "code",
   "execution_count": 6,
   "metadata": {},
   "outputs": [
    {
     "name": "stdout",
     "output_type": "stream",
     "text": [
      "Search results:\n",
      "Index: 0, Distance: 0.5544\n",
      "Text: The quick brown fox jumps over the lazy dog\n",
      "Metadata: {'source': 'Example 1'}\n",
      "\n",
      "Index: 2, Distance: 0.7047\n",
      "Text: To be or not to be, that is the question\n",
      "Metadata: {'source': 'Example 3'}\n",
      "\n"
     ]
    }
   ],
   "source": [
    "print(\"Search results:\")\n",
    "for result in results:\n",
    "    print(f\"Index: {result['index']}, Distance: {result['distance']:.4f}\")\n",
    "    print(f\"Text: {result['text']}\")\n",
    "    print(f\"Metadata: {result['metadata']}\")\n",
    "    print()"
   ]
  },
  {
   "cell_type": "code",
   "execution_count": null,
   "metadata": {},
   "outputs": [],
   "source": []
  }
 ],
 "metadata": {
  "kernelspec": {
   "display_name": "ps",
   "language": "python",
   "name": "python3"
  },
  "language_info": {
   "codemirror_mode": {
    "name": "ipython",
    "version": 3
   },
   "file_extension": ".py",
   "mimetype": "text/x-python",
   "name": "python",
   "nbconvert_exporter": "python",
   "pygments_lexer": "ipython3",
   "version": "3.12.5"
  }
 },
 "nbformat": 4,
 "nbformat_minor": 2
}
